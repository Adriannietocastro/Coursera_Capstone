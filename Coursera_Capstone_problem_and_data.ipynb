{
 "cells": [
  {
   "cell_type": "code",
   "execution_count": 10,
   "metadata": {},
   "outputs": [
    {
     "name": "stdout",
     "output_type": "stream",
     "text": [
      "Hello Capstone Project Course!\n"
     ]
    }
   ],
   "source": [
    "#Notebook for capstone project\n",
    "import pandas as pd\n",
    "import numpy as np\n",
    "print(\"Hello Capstone Project Course!\")"
   ]
  },
  {
   "cell_type": "code",
   "execution_count": 18,
   "metadata": {},
   "outputs": [
    {
     "name": "stdout",
     "output_type": "stream",
     "text": [
      "DESCRIPTION OF THE PROBLEM\n",
      "Car accidents is a huge concern in most of societies. In the US, more than 3 million of people are injured every year in a car accident, and more than 30,000 people die.\n",
      "For this reason, it is important to understand the drivers behind car accidents, so that better policies can be implemented to reduce the aforementioned numbers.\n",
      "Yet, many are the factors that may be behind car accidents and their severity.\n",
      "In this project, I explore some of these factors and contribute towards the understanding of how accidents can be avoided.\n",
      "I develop a model to predict the severity of car accidents based on weather, road and light conditions.\n",
      "\n",
      "DATA\n",
      "To analyze the aforementioned problem and predict the severity of car accidents based on weather, road and light conditions, the model will use data on Seattle city car accidents.\n",
      "This dataset provides labelled data, contains 194,673 observations and 37 attributes.\n",
      "The variable I am interested in predicting is 'SEVERITY', and it describes the fatality of an accident.\n",
      "The dataset is not balanced and the model will need to balance it before starting the analysis.\n",
      "The three atributes I will use to predict severity of car accidents are 'WEATHER', 'ROADCOND' and 'LIGHTCOND'.\n",
      "I next import the dataset:\n",
      "'SEVERITY' takes the possible values:\n"
     ]
    },
    {
     "data": {
      "text/plain": [
       "1    136485\n",
       "2     58188\n",
       "Name: SEVERITYCODE, dtype: int64"
      ]
     },
     "execution_count": 18,
     "metadata": {},
     "output_type": "execute_result"
    }
   ],
   "source": [
    "print(\"DESCRIPTION OF THE PROBLEM\")\n",
    "print(\"Car accidents is a huge concern in most of societies. In the US, more than 3 million of people are injured every year in a car accident, and more than 30,000 people die.\")\n",
    "print(\"For this reason, it is important to understand the drivers behind car accidents, so that better policies can be implemented to reduce the aforementioned numbers.\")\n",
    "print(\"Yet, many are the factors that may be behind car accidents and their severity.\") \n",
    "print(\"In this project, I explore some of these factors and contribute towards the understanding of how accidents can be avoided.\")\n",
    "print(\"I develop a model to predict the severity of car accidents based on weather, road and light conditions.\")\n",
    "print(\"\")\n",
    "print(\"DATA\")\n",
    "print(\"To analyze the aforementioned problem and predict the severity of car accidents based on weather, road and light conditions, the model will use data on Seattle city car accidents.\")\n",
    "print(\"This dataset provides labelled data, contains 194,673 observations and 37 attributes.\")\n",
    "print(\"The variable I am interested in predicting is 'SEVERITY', and it describes the fatality of an accident.\")\n",
    "print(\"The dataset is not balanced and the model will need to balance it before starting the analysis.\")\n",
    "print(\"The three atributes I will use to predict severity of car accidents are 'WEATHER', 'ROADCOND' and 'LIGHTCOND'.\")\n",
    "print(\"I next import the dataset:\")\n",
    "path = 'Data-Collisions.csv'\n",
    "df = pd.read_csv(path, dtype=str)\n",
    "print(\"'SEVERITY' takes the following possible values:\")\n",
    "df['SEVERITYCODE'].value_counts()"
   ]
  },
  {
   "cell_type": "code",
   "execution_count": 19,
   "metadata": {},
   "outputs": [
    {
     "name": "stdout",
     "output_type": "stream",
     "text": [
      "These values can be described as:\n"
     ]
    },
    {
     "data": {
      "text/plain": [
       "Property Damage Only Collision    136485\n",
       "Injury Collision                   58188\n",
       "Name: SEVERITYDESC, dtype: int64"
      ]
     },
     "execution_count": 19,
     "metadata": {},
     "output_type": "execute_result"
    }
   ],
   "source": [
    "print(\"These values can be described as:\")\n",
    "df['SEVERITYDESC'].value_counts()"
   ]
  },
  {
   "cell_type": "code",
   "execution_count": 20,
   "metadata": {},
   "outputs": [
    {
     "name": "stdout",
     "output_type": "stream",
     "text": [
      "'WEATHER' takes the possible values:\n"
     ]
    },
    {
     "data": {
      "text/plain": [
       "Clear                       111135\n",
       "Raining                      33145\n",
       "Overcast                     27714\n",
       "Unknown                      15091\n",
       "Snowing                        907\n",
       "Other                          832\n",
       "Fog/Smog/Smoke                 569\n",
       "Sleet/Hail/Freezing Rain       113\n",
       "Blowing Sand/Dirt               56\n",
       "Severe Crosswind                25\n",
       "Partly Cloudy                    5\n",
       "Name: WEATHER, dtype: int64"
      ]
     },
     "execution_count": 20,
     "metadata": {},
     "output_type": "execute_result"
    }
   ],
   "source": [
    "print(\"'WEATHER' takes the following possible values:\")\n",
    "df['WEATHER'].value_counts()"
   ]
  },
  {
   "cell_type": "code",
   "execution_count": 21,
   "metadata": {},
   "outputs": [
    {
     "name": "stdout",
     "output_type": "stream",
     "text": [
      "'ROADCOND' takes the possible values:\n"
     ]
    },
    {
     "data": {
      "text/plain": [
       "Dry               124510\n",
       "Wet                47474\n",
       "Unknown            15078\n",
       "Ice                 1209\n",
       "Snow/Slush          1004\n",
       "Other                132\n",
       "Standing Water       115\n",
       "Sand/Mud/Dirt         75\n",
       "Oil                   64\n",
       "Name: ROADCOND, dtype: int64"
      ]
     },
     "execution_count": 21,
     "metadata": {},
     "output_type": "execute_result"
    }
   ],
   "source": [
    "print(\"'ROADCOND' takes the following possible values:\")\n",
    "df['ROADCOND'].value_counts()"
   ]
  },
  {
   "cell_type": "code",
   "execution_count": 22,
   "metadata": {},
   "outputs": [
    {
     "name": "stdout",
     "output_type": "stream",
     "text": [
      "'LIGHTCOND' takes the possible values:\n"
     ]
    },
    {
     "data": {
      "text/plain": [
       "Daylight                    116137\n",
       "Dark - Street Lights On      48507\n",
       "Unknown                      13473\n",
       "Dusk                          5902\n",
       "Dawn                          2502\n",
       "Dark - No Street Lights       1537\n",
       "Dark - Street Lights Off      1199\n",
       "Other                          235\n",
       "Dark - Unknown Lighting         11\n",
       "Name: LIGHTCOND, dtype: int64"
      ]
     },
     "execution_count": 22,
     "metadata": {},
     "output_type": "execute_result"
    }
   ],
   "source": [
    "print(\"'LIGHTCOND' takes the following possible values:\")\n",
    "df['LIGHTCOND'].value_counts()"
   ]
  },
  {
   "cell_type": "code",
   "execution_count": null,
   "metadata": {},
   "outputs": [],
   "source": []
  }
 ],
 "metadata": {
  "kernelspec": {
   "display_name": "Python",
   "language": "python",
   "name": "conda-env-python-py"
  },
  "language_info": {
   "codemirror_mode": {
    "name": "ipython",
    "version": 3
   },
   "file_extension": ".py",
   "mimetype": "text/x-python",
   "name": "python",
   "nbconvert_exporter": "python",
   "pygments_lexer": "ipython3",
   "version": "3.6.11"
  }
 },
 "nbformat": 4,
 "nbformat_minor": 4
}
